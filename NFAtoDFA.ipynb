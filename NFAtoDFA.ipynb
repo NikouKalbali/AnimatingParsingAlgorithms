{
 "cells": [
  {
   "cell_type": "markdown",
   "metadata": {},
   "source": [
    "# Animating the Execution of Nondeterministic Finite State Machines"
   ]
  },
  {
   "cell_type": "code",
   "execution_count": 1,
   "metadata": {},
   "outputs": [],
   "source": [
    "from gvanim import Animation\n",
    "from gvanim.jupyter import interactive\n",
    "ga = Animation()\n",
    "ga_new = Animation()"
   ]
  },
  {
   "cell_type": "code",
   "execution_count": 2,
   "metadata": {},
   "outputs": [],
   "source": [
    "class FiniteStateMachine:\n",
    "    def __init__(self, T, Q, R, q0, F):\n",
    "        self.T, self.Q, self.R, self.q0, self.F = T, Q, R, q0, F\n",
    "    def __repr__(self):\n",
    "        return str(self.q0) + '\\n' + ' '.join(self.F) + '\\n' + \\\n",
    "               '\\n'.join(r[0] + ' ' + r[1] + ' → ' + r[2] for r in self.R)\n",
    "\n",
    "def parseFSM(fsm: str) -> FiniteStateMachine:\n",
    "    fsm = [line for line in fsm.split('\\n') if line.strip() != '']\n",
    "    q0 = fsm[0].split()[0] # first line: initialstate\n",
    "    F = set(fsm[1].split()) # second line: finalstate, finalstate, ...\n",
    "    R = set()\n",
    "    for line in fsm[2:]: # all subsequent lines: \"source symbol → target\"\n",
    "        l, r = line.split('→')\n",
    "        R |= {(l.split()[0], l.split()[1], r.split()[0])}\n",
    "    T = {r[1] for r in R}\n",
    "    Q = {q0} | F | {r[0] for r in R} | {r[2] for r in R}\n",
    "    return FiniteStateMachine(T, Q, R, q0, F)\n",
    "\n",
    "class Choice:\n",
    "    def __init__(self, e1, e2): self.e1, self.e2 = e1, e2\n",
    "class Conc:\n",
    "    def __init__(self, e1, e2): self.e1, self.e2 = e1, e2\n",
    "class Star:\n",
    "    def __init__(self, e): self.e = e\n",
    "        \n",
    "def syntaxgraph(re):\n",
    "    global node, T\n",
    "    if re == '': return {(None, None)}\n",
    "    elif type(re) == str:\n",
    "        node += 1; T.add(re); return {(None, (re, str(node))), ((re, str(node)), None)}\n",
    "    elif type(re) == Choice:\n",
    "        return syntaxgraph(re.e1) | syntaxgraph(re.e2)\n",
    "    elif type(re) == Conc:\n",
    "        g1, g2 = syntaxgraph(re.e1), syntaxgraph(re.e2)\n",
    "        return {(a, b) for (a, b) in g1 if b} | \\\n",
    "               {(a, b) for (a, b) in g2 if a} | \\\n",
    "               {(a, b) for (a, c) in g1 for (d, b) in g2 if not c and not d}\n",
    "    elif type(re) == Star:\n",
    "        g = syntaxgraph(re.e)\n",
    "        return {(None, None)} | g | \\\n",
    "               {(a, b) for (a, c) in g for (d, b) in g if not c and not d}\n",
    "    else: raise Exception('not a regular expression')\n",
    "        \n",
    "def convertRegExToFSM(re):\n",
    "    global node, T; node, T = 0, set()\n",
    "    g = syntaxgraph(re)\n",
    "    Q = {str(n) for n in range(node + 1)}\n",
    "    R = {('0', b[0], b[1]) for (a, b) in g if not a and b} | \\\n",
    "        {(a[1], b[0], b[1]) for (a, b) in g if a and b}\n",
    "    F = {a[1] for (a, b) in g if a and not b} | ({'0'} if (None, None) in g else set())\n",
    "    output = FiniteStateMachine(T, Q, R, '0', F)\n",
    "    output = str(output)\n",
    "    return output"
   ]
  },
  {
   "cell_type": "markdown",
   "metadata": {},
   "source": [
    "###### Defining the Nondeterministic FSM "
   ]
  },
  {
   "cell_type": "code",
   "execution_count": 3,
   "metadata": {},
   "outputs": [
    {
     "name": "stdout",
     "output_type": "stream",
     "text": [
      "0\n",
      "6 3\n",
      "2 a → 2\n",
      "4 c → 6\n",
      "5 c → 6\n",
      "1 a → 2\n",
      "2 b → 3\n",
      "5 a → 5\n",
      "1 b → 3\n",
      "0 a → 4\n",
      "0 a → 1\n",
      "4 a → 5\n"
     ]
    }
   ],
   "source": [
    "E4 = Choice(Conc(Conc('a', Star('a')), 'b'), Conc(Conc('a', Star('a')), 'c'))\n",
    "A4 = convertRegExToFSM(E4); A4 = A4.splitlines()\n",
    "for i in A4:\n",
    "    print(i)\n",
    "\n",
    "# E3 = Choice(Conc('a', 'b'), Conc('a', 'c')); A3 = convertRegExToFSM(E3); A3 = A3.splitlines()\n",
    "# for i in A3:\n",
    "#     print(i)\n",
    "# start state = 0 \n",
    "# final states = 2, 4\n",
    "# transitions = a, b, c \n",
    "# all states = 0, 1, 2, 3, 4 "
   ]
  },
  {
   "cell_type": "markdown",
   "metadata": {},
   "source": [
    "### Printing the Model:"
   ]
  },
  {
   "cell_type": "code",
   "execution_count": 4,
   "metadata": {},
   "outputs": [
    {
     "data": {
      "text/plain": [
       "[['2', 'a', '2'],\n",
       " ['4', 'c', '6'],\n",
       " ['5', 'c', '6'],\n",
       " ['1', 'a', '2'],\n",
       " ['2', 'b', '3'],\n",
       " ['5', 'a', '5'],\n",
       " ['1', 'b', '3'],\n",
       " ['0', 'a', '4'],\n",
       " ['0', 'a', '1'],\n",
       " ['4', 'a', '5']]"
      ]
     },
     "execution_count": 4,
     "metadata": {},
     "output_type": "execute_result"
    }
   ],
   "source": [
    "def printNFSM(A):\n",
    "    event = []\n",
    "    for i in range(2,len(A)):\n",
    "        old = A[i][0:1]\n",
    "        transition = A[i][2:3]\n",
    "        new = A[i][A[i].find(\"→\")+2:]\n",
    "        ga.add_edge(old,new)\n",
    "        ga.label_edge(old,new,transition)\n",
    "        event.append([old,transition,new])\n",
    "    return (event)\n",
    "printNFSM(A4)"
   ]
  },
  {
   "cell_type": "markdown",
   "metadata": {},
   "source": [
    "### Animating the Model:"
   ]
  },
  {
   "cell_type": "code",
   "execution_count": 5,
   "metadata": {},
   "outputs": [
    {
     "name": "stdout",
     "output_type": "stream",
     "text": [
      "[['0', 'a', '1'], ['2', 'a', '2'], ['1', 'a', '2'], ['2', 'b', '3'], ['1', 'b', '3'], ['0', 'a', '4'], ['5', 'a', '5'], ['4', 'a', '5'], ['4', 'c', '6'], ['5', 'c', '6']]\n"
     ]
    }
   ],
   "source": [
    "def animateNFSM(A):\n",
    "    start = list(A[0].strip(\"{}\")) # list of starting states\n",
    "    final = A[1].replace('{','').replace('}','').split(' ') # list of final states\n",
    "    event = printNFSM(A)\n",
    "    next = []\n",
    "    event.sort(key = lambda event: event[2]) \n",
    "    print(event)\n",
    "    for i in event: \n",
    "        ga.highlight_node(i[0])\n",
    "        ga.next_step()\n",
    "        ga.highlight_edge(i[0],i[2])\n",
    "        ga.next_step()\n",
    "        ga.highlight_node(i[2])            \n",
    "animateNFSM(A4)"
   ]
  },
  {
   "cell_type": "markdown",
   "metadata": {},
   "source": [
    "### Running the Animation:"
   ]
  },
  {
   "cell_type": "code",
   "execution_count": 6,
   "metadata": {
    "scrolled": false
   },
   "outputs": [
    {
     "data": {
      "application/vnd.jupyter.widget-view+json": {
       "model_id": "27de66d142a64961a5e5413bd3e054e6",
       "version_major": 2,
       "version_minor": 0
      },
      "text/plain": [
       "interactive(children=(IntSlider(value=0, description='n', max=20), Output()), _dom_classes=('widget-interact',…"
      ]
     },
     "metadata": {},
     "output_type": "display_data"
    }
   ],
   "source": [
    "interactive( ga, 600 )"
   ]
  },
  {
   "cell_type": "code",
   "execution_count": 7,
   "metadata": {},
   "outputs": [],
   "source": [
    "def convertRegExToFSM(re):\n",
    "    global node, T; node, T = 0, set()\n",
    "    g = syntaxgraph(re)\n",
    "    Q = {str(n) for n in range(node + 1)}\n",
    "    R = {('0', b[0], b[1]) for (a, b) in g if not a and b} | \\\n",
    "        {(a[1], b[0], b[1]) for (a, b) in g if a and b}\n",
    "    F = {a[1] for (a, b) in g if a and not b} | ({'0'} if (None, None) in g else set())\n",
    "    return FiniteStateMachine(T, Q, R, '0', F)\n",
    "\n",
    "def string(s: set) -> str:\n",
    "    return '{' + ', '.join(e for e in s) + '}'\n",
    "\n",
    "def deterministicFSM(fsm: FiniteStateMachine) -> FiniteStateMachine:\n",
    "    qq0 = string({fsm.q0})\n",
    "    QQ, RR, visited = {qq0}, set(), set()\n",
    "    #print(QQ, RR, visited)\n",
    "    while visited != QQ:\n",
    "        qq = (QQ - visited).pop(); visited |= {qq}\n",
    "        for t in fsm.T:\n",
    "            rr = {r for (q, u, r) in fsm.R if u == t and q in qq}\n",
    "            if rr != set(): QQ |= {string(rr)}; RR |= {(qq, t, string(rr))}\n",
    "        #print(QQ, RR, visited)\n",
    "    FF = {qq for qq in QQ for f in fsm.F if f in qq}\n",
    "    output = FiniteStateMachine(fsm.T, QQ, RR, qq0, FF)\n",
    "    output = str(output)\n",
    "    return output"
   ]
  },
  {
   "cell_type": "code",
   "execution_count": 8,
   "metadata": {},
   "outputs": [
    {
     "name": "stdout",
     "output_type": "stream",
     "text": [
      "Nondeterministic FSM:\n",
      "0\n",
      "6 3\n",
      "2 a → 2\n",
      "4 c → 6\n",
      "5 c → 6\n",
      "1 a → 2\n",
      "2 b → 3\n",
      "5 a → 5\n",
      "1 b → 3\n",
      "0 a → 4\n",
      "0 a → 1\n",
      "4 a → 5\n",
      "Deterministic FSM:\n",
      "{0}\n",
      "{3} {6}\n",
      "{5, 2} c → {6}\n",
      "{0} a → {4, 1}\n",
      "{4, 1} c → {6}\n",
      "{5, 2} b → {3}\n",
      "{4, 1} a → {5, 2}\n",
      "{4, 1} b → {3}\n",
      "{5, 2} a → {5, 2}\n"
     ]
    }
   ],
   "source": [
    "print(\"Nondeterministic FSM:\")\n",
    "for i in A4:\n",
    "    print(i)\n",
    "A4NFA = convertRegExToFSM(E4)\n",
    "A4det = deterministicFSM(A4NFA); A4det = A4det.splitlines()\n",
    "print(\"Deterministic FSM:\")\n",
    "for i in range(len(A4det)): \n",
    "    A4det[i] = A4det[i]\n",
    "    print(A4det[i])"
   ]
  },
  {
   "cell_type": "code",
   "execution_count": 9,
   "metadata": {},
   "outputs": [],
   "source": [
    "def convertNFA(NFA,DFA):\n",
    "    eventNFA = [] # order of events for NFA\n",
    "    eventDFA = [] # order of events for DFA\n",
    "    replaced = []\n",
    "    new_stateNFA = []\n",
    "    new_stateDFA = []\n",
    "    # assign each state and transition in NFA \n",
    "    for i in range(2,len(NFA)):\n",
    "        oldNFA = NFA[i][0:1]\n",
    "        transitionNFA = NFA[i][2:3]\n",
    "        newNFA = NFA[i][NFA[i].find(\"→\")+2:]\n",
    "        ga_new.add_edge(oldNFA,newNFA)\n",
    "        ga_new.label_edge(oldNFA,newNFA,transitionNFA)\n",
    "        eventNFA.append([oldNFA,transitionNFA,newNFA])\n",
    "        new_stateNFA.append(newNFA)\n",
    "        \n",
    "    ga_new.next_step()\n",
    "    for i in range(2,len(DFA)):\n",
    "        oldDFA = DFA[i][DFA[i].find(\"{\")+1:DFA[i].find(\"}\")]\n",
    "        end_bracket = (DFA[i].find(\"}\")) # index of first end bracket \n",
    "        transitionDFA = DFA[i][end_bracket+2]\n",
    "        newDFA = DFA[i][end_bracket+6:len(DFA[i])].replace('{','').replace('}','')\n",
    "        eventDFA.append([oldDFA,transitionDFA, newDFA])\n",
    "        new_stateDFA.append(newDFA)\n",
    "    eventDFA = sorted(eventDFA)\n",
    "    eventNDA = sorted(eventNFA)\n",
    "    \n",
    "    while (eventNFA != eventDFA):\n",
    "        for i in eventNFA:\n",
    "            for j in eventDFA:\n",
    "                if i[0:2] == j[0:2]:\n",
    "                    index = (eventNFA.index(i)) # index of value to be replaced with combined state \n",
    "                    replaced = i \n",
    "                    ga_new.remove_edge(i[0],i[2])\n",
    "                    #print('remove:', i[2])\n",
    "                    eventNFA[index] = j # replacing value\n",
    "                    #print(i[0],i[1],j[2])\n",
    "                    ga_new.add_edge(i[0],j[2])\n",
    "                    ga_new.label_edge(i[0],j[2],i[1])\n",
    "                    ga_new.next_step()\n",
    "                if replaced != []:\n",
    "                    for x in eventNFA:\n",
    "                        if x[0] == replaced[2]:\n",
    "                            x[0] = j[2]\n",
    "                replaced = []\n",
    "        eventNFA = set(map(tuple, eventNFA))\n",
    "        eventNFA = sorted(list(map(list, eventNFA)))\n",
    "        eventDFA = sorted(eventDFA)\n",
    "\n",
    "    new_stateNFA = list(set(new_stateNFA))\n",
    "    for i in new_stateNFA:\n",
    "        if i not in new_stateDFA:\n",
    "            ga_new.remove_node(i)\n",
    "            ga_new.next_step()\n",
    "\n",
    "convertNFA(A4,A4det)"
   ]
  },
  {
   "cell_type": "code",
   "execution_count": 10,
   "metadata": {},
   "outputs": [
    {
     "data": {
      "application/vnd.jupyter.widget-view+json": {
       "model_id": "1405b83962144911ba2e7676e08ac545",
       "version_major": 2,
       "version_minor": 0
      },
      "text/plain": [
       "interactive(children=(IntSlider(value=0, description='n', max=23), Output()), _dom_classes=('widget-interact',…"
      ]
     },
     "metadata": {},
     "output_type": "display_data"
    }
   ],
   "source": [
    "interactive(ga_new,600)"
   ]
  },
  {
   "cell_type": "code",
   "execution_count": null,
   "metadata": {},
   "outputs": [],
   "source": []
  },
  {
   "cell_type": "code",
   "execution_count": null,
   "metadata": {},
   "outputs": [],
   "source": []
  },
  {
   "cell_type": "code",
   "execution_count": null,
   "metadata": {},
   "outputs": [],
   "source": []
  },
  {
   "cell_type": "code",
   "execution_count": null,
   "metadata": {},
   "outputs": [],
   "source": []
  }
 ],
 "metadata": {
  "kernelspec": {
   "display_name": "Python 3",
   "language": "python",
   "name": "python3"
  },
  "language_info": {
   "codemirror_mode": {
    "name": "ipython",
    "version": 3
   },
   "file_extension": ".py",
   "mimetype": "text/x-python",
   "name": "python",
   "nbconvert_exporter": "python",
   "pygments_lexer": "ipython3",
   "version": "3.8.1"
  }
 },
 "nbformat": 4,
 "nbformat_minor": 4
}
